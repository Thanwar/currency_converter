{
 "cells": [
  {
   "cell_type": "code",
   "execution_count": 1,
   "metadata": {
    "colab": {},
    "colab_type": "code",
    "id": "tVureeRAwAlY"
   },
   "outputs": [],
   "source": [
    "import requests"
   ]
  },
  {
   "cell_type": "code",
   "execution_count": 2,
   "metadata": {
    "colab": {
     "base_uri": "https://localhost:8080/",
     "height": 119
    },
    "colab_type": "code",
    "id": "FaLjUr2pqGGa",
    "outputId": "961be3c8-a5cf-4f0e-9891-b2c3a45e5e14"
   },
   "outputs": [
    {
     "name": "stdout",
     "output_type": "stream",
     "text": [
      "Enter date 'YYYY-MM-DD' : 2009-07-03\n",
      "Enter the Currency you want to convert from : GBP\n",
      "Enter the Currency you want to convert to : USD\n",
      "How much GBP do you want to convert ? 26\n",
      "\n",
      " 26.0 GBP is equal to 42.538277371199996 USD, based upon exchange rates on 2009-07-03\n"
     ]
    }
   ],
   "source": [
    "base_url = \"https://api.exchangeratesapi.io\"\n",
    "date = input(\"Enter date 'YYYY-MM-DD' : \")\n",
    "base_currency = input(\"Enter the Currency you want to convert from : \")\n",
    "target_currency = input(\"Enter the Currency you want to convert to : \")\n",
    "quantity = float(input(\"How much {} do you want to convert ? \".format(base_currency)))\n",
    "\n",
    "url = base_url + \"/\" + date + \"?base=\" + base_currency + \"&symbols=\" + target_currency\n",
    "response = requests.get(url)\n",
    "\n",
    "if (response.ok is False):\n",
    "  print(\"\\n ERROR : {}\".format(response.status_code))\n",
    "  #print(response.json()['error'])\n",
    "\n",
    "else:\n",
    "  data = response.json()\n",
    "  rate = data['rates'][target_currency]\n",
    "  result = quantity*rate\n",
    "\n",
    "  print(\"\\n {0} {1} is equal to {2} {3}, based upon exchange rates on {4}\".format(quantity,base_currency,result,target_currency,data['date']))"
   ]
  }
 ],
 "metadata": {
  "colab": {
   "name": " Currency Converter.ipynb",
   "provenance": []
  },
  "kernelspec": {
   "display_name": "Python 3",
   "language": "python",
   "name": "python3"
  },
  "language_info": {
   "codemirror_mode": {
    "name": "ipython",
    "version": 3
   },
   "file_extension": ".py",
   "mimetype": "text/x-python",
   "name": "python",
   "nbconvert_exporter": "python",
   "pygments_lexer": "ipython3",
   "version": "3.7.6"
  }
 },
 "nbformat": 4,
 "nbformat_minor": 1
}
